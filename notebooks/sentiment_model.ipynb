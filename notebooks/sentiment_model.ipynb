{
 "cells": [
  {
   "cell_type": "code",
   "execution_count": null,
   "id": "e3eade0d",
   "metadata": {
    "vscode": {
     "languageId": "plaintext"
    }
   },
   "outputs": [],
   "source": [
    "# 1. Imports\n",
    "import pandas as pd\n",
    "from vaderSentiment.vaderSentiment import SentimentIntensityAnalyzer\n",
    "\n",
    "# 2. Load Reviews\n",
    "df = pd.read_csv(\"../data/raw/reviews_raw.csv\")\n",
    "\n",
    "# 3. Initialize VADER\n",
    "analyzer = SentimentIntensityAnalyzer()\n",
    "\n",
    "# 4. Apply Sentiment Scoring\n",
    "def get_sentiment(text):\n",
    "    score = analyzer.polarity_scores(text)\n",
    "    compound = score['compound']\n",
    "    if compound >= 0.05:\n",
    "        return 'positive', compound\n",
    "    elif compound <= -0.05:\n",
    "        return 'negative', compound\n",
    "    else:\n",
    "        return 'neutral', compound\n",
    "\n",
    "df[['sentiment', 'polarity_score']] = df['review_text'].apply(\n",
    "    lambda x: pd.Series(get_sentiment(x))\n",
    ")\n",
    "\n",
    "# 5. Save Results\n",
    "df.to_csv(\"../data/processed/sentiment_labeled_reviews.csv\", index=False)\n",
    "df.head()\n"
   ]
  }
 ],
 "metadata": {
  "language_info": {
   "name": "python"
  }
 },
 "nbformat": 4,
 "nbformat_minor": 5
}
