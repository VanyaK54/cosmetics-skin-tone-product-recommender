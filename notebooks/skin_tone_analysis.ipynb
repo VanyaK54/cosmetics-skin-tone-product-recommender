{
 "cells": [
  {
   "cell_type": "code",
   "execution_count": null,
   "id": "83636bb9",
   "metadata": {
    "vscode": {
     "languageId": "plaintext"
    }
   },
   "outputs": [],
   "source": [
    "# 1. Imports\n",
    "import cv2\n",
    "import numpy as np\n",
    "import pandas as pd\n",
    "from matplotlib import pyplot as plt\n",
    "from sklearn.cluster import KMeans\n",
    "\n",
    "# 2. Load Image Sample\n",
    "img_path = \"../data/raw/images/U001_face.jpg\"\n",
    "image = cv2.imread(img_path)\n",
    "image_rgb = cv2.cvtColor(image, cv2.COLOR_BGR2RGB)\n",
    "plt.imshow(image_rgb)\n",
    "plt.axis('off')\n",
    "plt.show()\n",
    "\n",
    "# 3. Preprocess Image for Face Region\n",
    "face_crop = image_rgb[80:200, 100:250]  # Manual region or face detector\n",
    "pixels = face_crop.reshape((-1, 3))\n",
    "\n",
    "# 4. K-Means Clustering to Find Dominant Skin Color\n",
    "kmeans = KMeans(n_clusters=1)\n",
    "kmeans.fit(pixels)\n",
    "dominant_color = kmeans.cluster_centers_.astype(int)[0]\n",
    "\n",
    "# 5. Determine Skin Tone Category\n",
    "def classify_skin_tone(rgb):\n",
    "    r, g, b = rgb\n",
    "    if r > 200 and g > 180:\n",
    "        return \"fair\"\n",
    "    elif r > 120:\n",
    "        return \"medium\"\n",
    "    else:\n",
    "        return \"deep\"\n",
    "\n",
    "skin_tone = classify_skin_tone(dominant_color)\n",
    "print(f\"Detected Skin Tone: {skin_tone}\")\n",
    "\n",
    "# 6. Output Result\n",
    "df_result = pd.DataFrame({\n",
    "    \"user_id\": [\"U001\"],\n",
    "    \"image_path\": [img_path],\n",
    "    \"detected_skin_tone\": [skin_tone]\n",
    "})\n",
    "df_result.to_csv(\"../data/processed/skin_tone_labels.csv\", index=False)\n"
   ]
  }
 ],
 "metadata": {
  "language_info": {
   "name": "python"
  }
 },
 "nbformat": 4,
 "nbformat_minor": 5
}
